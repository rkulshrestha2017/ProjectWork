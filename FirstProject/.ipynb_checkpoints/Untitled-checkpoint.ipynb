{
 "cells": [
  {
   "cell_type": "code",
   "execution_count": 1,
   "metadata": {
    "collapsed": true
   },
   "outputs": [],
   "source": [
    "import os\n",
    "import pandas as pd\n",
    "import urllib.request\n",
    "import zipfile"
   ]
  },
  {
   "cell_type": "code",
   "execution_count": 2,
   "metadata": {
    "collapsed": true
   },
   "outputs": [],
   "source": [
    "data_path = \"raw_data/state\"\n",
    "if not os.path.isdir(data_path): # creates path if it does not exist\n",
    "    os.makedirs(data_path)"
   ]
  },
  {
   "cell_type": "code",
   "execution_count": 3,
   "metadata": {},
   "outputs": [
    {
     "name": "stdout",
     "output_type": "stream",
     "text": [
      "Downloading.\n",
      "Extracting.\n"
     ]
    }
   ],
   "source": [
    "# Download files from U.S. Social Security Gov website. Check if files already exists\n",
    "os.chdir(data_path)\n",
    "\n",
    "ssa_url = 'https://www.ssa.gov/oact/babynames/state/namesbystate.zip' \n",
    "\n",
    "if not os.path.isfile(\"namesbystate.zip\"):\n",
    "    print(\"Downloading.\")\n",
    "    urllib.request.urlretrieve(ssa_url, 'namesbystate.zip')\n",
    "else: print(\"Data already downloaded.\")\n",
    "\n",
    "if not os.path.isfile(\"AK.txt\") or not os.path.isfile(\"WY.txt\"):\n",
    "    print(\"Extracting.\")\n",
    "    with zipfile.ZipFile('namesbystate.zip') as zf:\n",
    "        for member in zf.infolist():\n",
    "            zf.extract(member)\n",
    "else: print(\"Data already extracted.\")\n",
    "\n",
    "os.chdir(\"../\")"
   ]
  },
  {
   "cell_type": "code",
   "execution_count": null,
   "metadata": {
    "collapsed": true
   },
   "outputs": [],
   "source": [
    "#Create pandas dataframes from U.S. Social Security baby names database and preserve for later use in other notebooks.\n",
    "\n",
    "redo_dataframes = False\n",
    "os.chdir(data_path)\n",
    "\n",
    "if (redo_dataframes == True or\n",
    "    not os.path.isfile(\"state.pickle\") or \n",
    "    not os.path.isfile(\"names.pickle\") or\n",
    "    not os.path.isfile(\"yob.preserve\")):\n",
    "\n",
    "    print(\"Processing.\")\n",
    "    \n",
    "    # read individual files, yob1880.txt, yob1881.txt, etc. and assemble into a dataframe\n",
    "    states = range(AK, WY) # stops at 2016: update this when Social Security Administration adds to data \n",
    "    parts = []\n",
    "    part_columns = ['state', 'sex', 'year', 'name', 'births']\n",
    "    for state in states:\n",
    "        path = str(state) + '.txt'\n",
    "        part_df = pd.read_csv(path, names=part_columns)\n",
    "        part_df['state'] = year\n",
    "        parts.append(part_df)\n",
    "    state = pd.concat(parts, ignore_index=True)\n",
    "    \n",
    "    # add column 'pct': the number of births of that name and sex in that year\n",
    "    # divided by the total number of births of that sex in that year, multiplied by\n",
    "    # 100 to turn into a percentage and reduce leading zeroes\n",
    "    def add_pct(group):\n",
    "        births = group.births.astype(float)\n",
    "        group['pct'] = (births / births.sum() * 100)\n",
    "        return group\n",
    "    yob = yob.groupby(['year', 'sex']).apply(add_pct)\n",
    "    #add rank of each name each year each sex\n",
    "    yob['ranked'] = yob.groupby(['year', 'sex'])['births'].rank(ascending=False)\n",
    "    yob.to_pickle(\"yob.preserve\")\n",
    "    \n",
    "    # names dataframe: discards individual birth or pct values, and instead collects data on unique names.\n",
    "    # There is one row per unique combination of name and sex.\n",
    "    yobf = yob[yob.sex == 'F']\n",
    "    yobm = yob[yob.sex == 'M']\n",
    "    names_count = pd.DataFrame(yobf['name'].value_counts())\n",
    "    names_count.columns= ['year_count']\n",
    "    names_min = pd.DataFrame(yobf.groupby('name').year.min()) \n",
    "    names_min.columns = ['year_min']\n",
    "    names_max = pd.DataFrame(yobf.groupby('name').year.max()) \n",
    "    names_max.columns = ['year_max']\n",
    "    names_pctsum = pd.DataFrame(yobf.groupby('name').pct.sum()) \n",
    "    names_pctsum.columns = ['pct_sum']\n",
    "    names_pctmax = pd.DataFrame(yobf.groupby('name').pct.max())\n",
    "    names_pctmax.columns = ['pct_max']\n",
    "    names_f = names_count.join(names_min)\n",
    "    names_f = names_f.join(names_max)\n",
    "    names_f = names_f.join(names_pctsum)\n",
    "    names_f = names_f.join(names_pctmax)\n",
    "    names_f['sex'] = \"F\"\n",
    "    names_f.reset_index(inplace=True, drop=False)\n",
    "    names_f.columns = ['name', 'year_count', 'year_min', 'year_max', 'pct_sum', 'pct_max', 'sex']\n",
    "    names_f = names_f[['name', 'sex', 'year_count', 'year_min', 'year_max', 'pct_sum', 'pct_max']]\n",
    "    names_count = pd.DataFrame(yobm['name'].value_counts()) \n",
    "    names_count.columns=['year_count']\n",
    "    names_min = pd.DataFrame(yobm.groupby('name').year.min()) \n",
    "    names_min.columns = ['year_min']\n",
    "    names_max = pd.DataFrame(yobm.groupby('name').year.max()) \n",
    "    names_max.columns = ['year_max']\n",
    "    names_pctsum = pd.DataFrame(yobm.groupby('name').pct.sum()) \n",
    "    names_pctsum.columns = ['pct_sum']\n",
    "    names_pctmax = pd.DataFrame(yobm.groupby('name').pct.max()) \n",
    "    names_pctmax.columns = ['pct_max']\n",
    "    names_m = names_count.join(names_min)\n",
    "    names_m = names_m.join(names_max)\n",
    "    names_m = names_m.join(names_pctsum)\n",
    "    names_m = names_m.join(names_pctmax)\n",
    "    names_m['sex'] = \"M\"\n",
    "    names_m.reset_index(inplace=True, drop=False)\n",
    "    names_m.columns = ['name', 'year_count', 'year_min', 'year_max', 'pct_sum', 'pct_max', 'sex']\n",
    "    names_m = names_m[['name', 'sex', 'year_count', 'year_min', 'year_max', 'pct_sum', 'pct_max']]\n",
    "    names = pd.concat([names_f, names_m], ignore_index=True)\n",
    "    names.to_pickle('names.preserve')\n",
    "    \n",
    "    # create years dataframe. Discards individual name data, aggregating by year.\n",
    "    total = pd.DataFrame(yob.pivot_table('births', index='year', columns = 'sex', aggfunc=sum))\n",
    "    total.reset_index(drop=False, inplace=True)\n",
    "    total.columns = ['year', 'births_f', 'births_m']\n",
    "    total['births_t'] = total.births_f + total.births_m\n",
    "    newnames = pd.DataFrame(names.groupby('year_min').year_min.count())\n",
    "    newnames.columns = ['firstyearcount']\n",
    "    newnames.reset_index(drop=False, inplace=True)\n",
    "    newnames.columns = ['year', 'new_names']\n",
    "    uniquenames = pd.DataFrame()\n",
    "    for yr in range(1880, 2016):\n",
    "        uniquenames = uniquenames.append(pd.DataFrame([{'year':yr, 'unique_names':len(yob[yob.year == yr].name.unique())}]), ignore_index=True)\n",
    "    years = pd.merge(left=total, right=newnames, on='year', right_index=False, left_index=False)\n",
    "    years = pd.merge(left=years, right=uniquenames, on='year', right_index=False, left_index=False)\n",
    "    years['sexratio'] = 100.0 * years.births_m / years.births_f\n",
    "    years.to_pickle('years.preserve')\n",
    "    \n",
    "else:\n",
    "    \n",
    "    print(\"Reading from preserve.\")\n",
    "    yob = pd.read_pickle('yob.preserve')\n",
    "    names = pd.read_pickle('names.preserve')\n",
    "    years = pd.read_pickle('years.preserve')\n",
    "    \n",
    "os.chdir(\"../\")"
   ]
  }
 ],
 "metadata": {
  "kernelspec": {
   "display_name": "Python [conda env:Anaconda3]",
   "language": "python",
   "name": "conda-env-Anaconda3-py"
  },
  "language_info": {
   "codemirror_mode": {
    "name": "ipython",
    "version": 3
   },
   "file_extension": ".py",
   "mimetype": "text/x-python",
   "name": "python",
   "nbconvert_exporter": "python",
   "pygments_lexer": "ipython3",
   "version": "3.6.3"
  }
 },
 "nbformat": 4,
 "nbformat_minor": 2
}
