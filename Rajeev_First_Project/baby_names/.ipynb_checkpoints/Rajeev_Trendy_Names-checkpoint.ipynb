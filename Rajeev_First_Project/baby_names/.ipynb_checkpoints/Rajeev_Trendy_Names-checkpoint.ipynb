{
 "cells": [
  {
   "cell_type": "markdown",
   "metadata": {},
   "source": [
    "# Determine \"TRENDY\" names #\n",
    "\n",
    "* There are several ways one could find \"trendy\" names, i.e. ones that rise quickly from obscurity to popularity, then fade quickly. One could look at percentage changes, but others have already done this, and one would have to use a second algorithm to distinguish truly popular names \n",
    "\n",
    "\n",
    "* This method is borrowed from peak analysis in chemistry chromatography; it weighs the results in favour of the most popular names with the sharpest peaks. The names with the lowest ratio of maximum popularity (normalized frequency, i.e. peak height) to peak width a a certain percentage (e.g. 10%) of peak height are the most \"spiky\"."
   ]
  },
  {
   "cell_type": "markdown",
   "metadata": {},
   "source": [
    "### Load dataframes; run this before every subsequent section"
   ]
  },
  {
   "cell_type": "code",
   "execution_count": 7,
   "metadata": {},
   "outputs": [
    {
     "name": "stdout",
     "output_type": "stream",
     "text": [
      "Data already downloaded.\n",
      "Data already extracted.\n",
      "Processing.\n",
      "Tail of dataframe 'yob':\n",
      "\n",
      "Tail of dataframe 'names':\n",
      "\n",
      "Tail of dataframe 'years':\n",
      "Tail of dataframe 'yob1900':\n",
      "Tail of dataframe 'names1900':\n",
      "Tail of dataframe 'years1900':\n"
     ]
    }
   ],
   "source": [
    "save_path = \"rajeev_data/trendy_names\" # files created by this notebook will be saved in this directory\n",
    "import time\n",
    "\n",
    "import os\n",
    "if not os.path.isdir(save_path): # creates path if it does not exist\n",
    "    os.makedirs(save_path)\n",
    "\n",
    "import pandas as pd\n",
    "import numpy as np\n",
    "import matplotlib.pyplot as plt\n",
    "%run Rajeev_download_process_files.py\n",
    "\n",
    "last_year = years.year.max()"
   ]
  },
  {
   "cell_type": "markdown",
   "metadata": {},
   "source": [
    "# Find largest ratios of peak height to width at 10 percent height for 1000 most popular names of each sex ###\n",
    "\n",
    "Low-popularity names are not included because their low signal-to-noise ratio would create false positives"
   ]
  },
  {
   "cell_type": "code",
   "execution_count": 8,
   "metadata": {},
   "outputs": [
    {
     "name": "stdout",
     "output_type": "stream",
     "text": [
      "Countdown F, then M to zero: \n",
      "F\n",
      "900\n",
      "800\n",
      "700\n",
      "600\n",
      "500\n",
      "400\n",
      "300\n",
      "200\n",
      "100\n",
      "0\n",
      "M\n",
      "900\n",
      "800\n",
      "700\n",
      "600\n",
      "500\n",
      "400\n",
      "300\n",
      "200\n",
      "100\n",
      "0\n",
      "\n",
      "Files saved.\n"
     ]
    }
   ],
   "source": [
    "# create dataframes of most popular names\n",
    "\n",
    "top_cutoff = 1000 #consider only this number of most popular names of each sex;\n",
    "                  #it saves calculation time and does not change final result\n",
    "\n",
    "peak_height_cutoff = 0.1  # ten percent of peak height\n",
    "\n",
    "###\n",
    "\n",
    "start = time.time()\n",
    "\n",
    "dfnamesm = names[names.sex == 'M']\n",
    "dfnamesf = names[names.sex == 'F']\n",
    "dfnamesm = dfnamesm.sort_values(by='pct_sum', ascending=False)\n",
    "dfnamesf = dfnamesf.sort_values(by='pct_sum', ascending=False)\n",
    "dfnamesm = dfnamesm[:top_cutoff]\n",
    "dfnamesf = dfnamesf[:top_cutoff]\n",
    "\n",
    "# create dataframe of peak analyses\n",
    "\n",
    "dfresult = pd.DataFrame()\n",
    "\n",
    "print(\"Countdown F, then M to zero: \",)\n",
    "\n",
    "sx = 'F'\n",
    "print(sx,)\n",
    "total = len(dfnamesf)\n",
    "for nm in list(dfnamesf.name):\n",
    "    total -= 1\n",
    "    if total % 100 == 0: print(total,)\n",
    "    df = yob[(yob.name == nm) & (yob.sex == sx)]\n",
    "    pct_sum = names[(names.name == nm) & (names.sex == sx)].pct_sum.iloc[0]\n",
    "    year_count = names[(names.name == nm) & (names.sex == sx)].year_count.iloc[0]\n",
    "    year_min = names[(names.name == nm) & (names.sex == sx)].year_min.iloc[0]\n",
    "    year_max = names[(names.name == nm) & (names.sex == sx)].year_max.iloc[0]\n",
    "    pct_max = df.pct.max()\n",
    "    df = df.sort_values(by='year')\n",
    "    yrcutstart = 0\n",
    "    yrcutend= 0\n",
    "    pctcut_sum = 0\n",
    "    \n",
    "    for idx, row in df.iterrows():\n",
    "        currpct =df.pct[idx]\n",
    "        curryr = df.year[idx]\n",
    "        if currpct >= peak_height_cutoff*pct_max:\n",
    "            pctcut_sum += currpct\n",
    "            if yrcutstart == 0:\n",
    "                yrcutstart = curryr\n",
    "            yrcutend = curryr\n",
    "    \n",
    "    tail_front = yrcutstart - year_min\n",
    "    tail_end = year_max - yrcutend\n",
    "    \n",
    "    yrcutspan = yrcutend-yrcutstart\n",
    "    yrcutratio = 1.0*yrcutspan/year_count\n",
    "    \n",
    "    spikiness = pct_max / yrcutspan     \n",
    "        \n",
    "    dfresult = dfresult.append(pd.DataFrame({'name':[nm],\n",
    "                     'sex':[sx],\n",
    "                     'year_count':[year_count],\n",
    "                     'year_min':[year_min],\n",
    "                     'year_max':[year_max],\n",
    "                     'pct_max':[pct_max],\n",
    "                     'pct_sum':[pct_sum],\n",
    "                     'yrcutstart':[yrcutstart],\n",
    "                     'yrcutend':[yrcutend],\n",
    "                     'yrcutspan':[yrcutspan],\n",
    "                     'yrcutratio':[yrcutratio],\n",
    "                     'pctcut_sum':[pctcut_sum],\n",
    "                     'tail_front':[tail_front],\n",
    "                     'tail_end':[tail_end],\n",
    "                     'spikiness':[spikiness] }))\n",
    "\n",
    "sx = 'M'\n",
    "print(sx,)\n",
    "total = len(dfnamesm)\n",
    "for nm in list(dfnamesm.name):\n",
    "    total -= 1\n",
    "    if total % 100 == 0: print(total,)\n",
    "    df = yob[(yob.name == nm) & (yob.sex == sx)]\n",
    "    pct_sum = names[(names.name == nm) & (names.sex == sx)].pct_sum.iloc[0]\n",
    "    year_count = names[(names.name == nm) & (names.sex == sx)].year_count.iloc[0]\n",
    "    year_min = names[(names.name == nm) & (names.sex == sx)].year_min.iloc[0]\n",
    "    year_max = names[(names.name == nm) & (names.sex == sx)].year_max.iloc[0]\n",
    "    pct_max = df.pct.max()\n",
    "    df = df.sort_values(by='year')\n",
    "    yrcutstart = 0\n",
    "    yrcutend= 0\n",
    "    pctcut_sum = 0\n",
    "    \n",
    "    for idx, row in df.iterrows():\n",
    "        currpct =df.pct[idx]\n",
    "        curryr = df.year[idx]\n",
    "        if currpct >= peak_height_cutoff*pct_max:\n",
    "            pctcut_sum += currpct\n",
    "            if yrcutstart == 0:\n",
    "                yrcutstart = curryr\n",
    "            yrcutend = curryr\n",
    "    \n",
    "    tail_front = yrcutstart - year_min\n",
    "    tail_end = year_max - yrcutend\n",
    "    \n",
    "    yrcutspan = yrcutend-yrcutstart\n",
    "    yrcutratio = 1.0*yrcutspan/year_count\n",
    "    \n",
    "    spikiness = pct_max / yrcutspan     \n",
    "        \n",
    "    dfresult = dfresult.append(pd.DataFrame({'name':[nm],\n",
    "                     'sex':[sx],\n",
    "                     'year_count':[year_count],\n",
    "                     'year_min':[year_min],\n",
    "                     'year_max':[year_max],\n",
    "                     'pct_max':[pct_max],\n",
    "                     'pct_sum':[pct_sum],\n",
    "                     'yrcutstart':[yrcutstart],\n",
    "                     'yrcutend':[yrcutend],\n",
    "                     'yrcutspan':[yrcutspan],\n",
    "                     'yrcutratio':[yrcutratio],\n",
    "                     'pctcut_sum':[pctcut_sum],\n",
    "                     'tail_front':[tail_front],\n",
    "                     'tail_end':[tail_end],\n",
    "                     'spikiness':[spikiness] }))\n",
    "\n",
    "picklepath = save_path + 'trendiness_'+ str(int(100*peak_height_cutoff))+'.pickle'\n",
    "csvpath = save_path + 'trendiness_'+ str(int(100*peak_height_cutoff))+'.csv'\n",
    "\n",
    "dfresult = dfresult[(dfresult.tail_end != 0 ) & (dfresult.tail_front != 0)] # remove names that have no ascent or descent after peak\n",
    "df.reset_index(drop=True, inplace=True)\n",
    "dfresult.to_pickle(picklepath)\n",
    "dfresult.to_csv(csvpath)\n",
    "\n",
    "print('\\nFiles saved.')"
   ]
  },
  {
   "cell_type": "code",
   "execution_count": 9,
   "metadata": {},
   "outputs": [
    {
     "name": "stdout",
     "output_type": "stream",
     "text": [
      "   index      name   pct_max    pct_sum  pctcut_sum sex  spikiness  tail_end  \\\n",
      "0      0     Linda  5.666702  86.555278   78.125872   F   0.182797        47   \n",
      "1      0  Brittany  2.050001  19.963709   18.403812   F   0.120588        16   \n",
      "2      0     Debra  2.585571  29.137515   26.780622   F   0.117526        44   \n",
      "3      0   Shirley  4.039516  53.522958   46.610027   F   0.112209        59   \n",
      "4      0    Ashley  3.155632  47.449055   44.545735   F   0.105188         6   \n",
      "5      0  Jennifer  4.301120  88.448228   82.479855   F   0.104905        14   \n",
      "6      0   Deborah  2.815900  40.420231   36.584367   F   0.104293        42   \n",
      "7      0      Lisa  3.414340  55.329716   52.214487   F   0.100422        27   \n",
      "8      0   Jessica  3.221220  60.657733   57.355505   F   0.092035        10   \n",
      "9      0     Betty  3.396358  84.950758   76.300854   F   0.069313        57   \n",
      "\n",
      "   tail_front  year_count  year_max  year_min  yrcutend  yrcutratio  \\\n",
      "0          58         137      2016      1880      1969    0.226277   \n",
      "1          20          54      2016      1963      2000    0.314815   \n",
      "2          36         102      2016      1914      1972    0.215686   \n",
      "3          41         136      2016      1880      1957    0.264706   \n",
      "4          63          78      2016      1917      2010    0.384615   \n",
      "5          45          99      2016      1916      2002    0.414141   \n",
      "6          67         137      2016      1880      1974    0.197080   \n",
      "7          69         113      2016      1886      1989    0.300885   \n",
      "8          91         137      2016      1880      2006    0.255474   \n",
      "9          30         137      2016      1880      1959    0.357664   \n",
      "\n",
      "   yrcutspan  yrcutstart  \n",
      "0         31        1938  \n",
      "1         17        1983  \n",
      "2         22        1950  \n",
      "3         36        1921  \n",
      "4         30        1980  \n",
      "5         41        1961  \n",
      "6         27        1947  \n",
      "7         34        1955  \n",
      "8         35        1971  \n",
      "9         49        1910  \n"
     ]
    }
   ],
   "source": [
    "print(dfresult[dfresult.sex == 'F'].sort_values(by='spikiness', ascending=False).reset_index().head(10))"
   ]
  },
  {
   "cell_type": "code",
   "execution_count": 10,
   "metadata": {},
   "outputs": [
    {
     "name": "stdout",
     "output_type": "stream",
     "text": [
      "   index     name   pct_max     pct_sum  pctcut_sum sex  spikiness  tail_end  \\\n",
      "0      0    Dewey  0.908795    5.135351    2.104963   M   0.151466       113   \n",
      "1      0    Jason  3.481697   58.825162   54.843751   M   0.084919         7   \n",
      "2      0   Grover  0.712437    6.551928    3.901046   M   0.059370       121   \n",
      "3      0     Mark  2.754202   74.030527   65.988047   M   0.051966        17   \n",
      "4      0     Gary  2.026481   51.795390   48.723030   M   0.038971        31   \n",
      "5      0    Brian  2.290481   63.852754   61.003633   M   0.038822         7   \n",
      "6      0    Larry  1.909725   49.613461   44.996293   M   0.037446        34   \n",
      "7      0    Scott  1.747625   42.881843   39.137994   M   0.037184        19   \n",
      "8      0   Donald  2.945288  106.781089  100.561545   M   0.036362        33   \n",
      "9      0  Woodrow  0.455162    4.011130    2.757148   M   0.035012        92   \n",
      "\n",
      "   tail_front  year_count  year_max  year_min  yrcutend  yrcutratio  \\\n",
      "0          10         130      2016      1887      1903    0.046154   \n",
      "1          88         137      2016      1880      2009    0.299270   \n",
      "2           3         137      2016      1880      1895    0.087591   \n",
      "3          66         137      2016      1880      1999    0.386861   \n",
      "4          53         135      2016      1880      1985    0.385185   \n",
      "5          41         107      2016      1909      2009    0.551402   \n",
      "6          51         137      2016      1880      1982    0.372263   \n",
      "7          70         137      2016      1880      1997    0.343066   \n",
      "8          22         137      2016      1880      1983    0.591241   \n",
      "9          11         113      2016      1900      1924    0.115044   \n",
      "\n",
      "   yrcutspan  yrcutstart  \n",
      "0          6        1897  \n",
      "1         41        1968  \n",
      "2         12        1883  \n",
      "3         53        1946  \n",
      "4         52        1933  \n",
      "5         59        1950  \n",
      "6         51        1931  \n",
      "7         47        1950  \n",
      "8         81        1902  \n",
      "9         13        1911  \n"
     ]
    }
   ],
   "source": [
    "print(dfresult[dfresult.sex == 'M'].sort_values(by='spikiness', ascending=False).reset_index().head(10))"
   ]
  },
  {
   "cell_type": "markdown",
   "metadata": {},
   "source": [
    "## Plot Female and Male names with highest spikiness "
   ]
  },
  {
   "cell_type": "markdown",
   "metadata": {},
   "source": [
    "#### Female Name=\"Linda\" and max spikiness"
   ]
  },
  {
   "cell_type": "code",
   "execution_count": 25,
   "metadata": {},
   "outputs": [
    {
     "data": {
      "image/png": "[encoded data removed]",
      "text/plain": [
       "<matplotlib.figure.Figure at 0x27e00072e80>"
      ]
     },
     "metadata": {},
     "output_type": "display_data"
    }
   ],
   "source": [
    "plt.plot(yob[(yob.name=='Linda')&(yob.sex=='F')].sort_values(by='year')['pct'])\n",
    "plt.show()"
   ]
  },
  {
   "cell_type": "markdown",
   "metadata": {},
   "source": [
    "#### Male Name=\"Dewey\" and max spikiness"
   ]
  },
  {
   "cell_type": "code",
   "execution_count": 26,
   "metadata": {},
   "outputs": [
    {
     "data": {
      "image/png": "[encoded data removed]",
      "text/plain": [
       "<matplotlib.figure.Figure at 0x27e00057550>"
      ]
     },
     "metadata": {},
     "output_type": "display_data"
    }
   ],
   "source": [
    "plt.plot(yob[(yob.name=='Dewey')&(yob.sex=='M')].sort_values(by='year')['pct'])\n",
    "plt.show()"
   ]
  },
  {
   "cell_type": "code",
   "execution_count": null,
   "metadata": {
    "collapsed": true
   },
   "outputs": [],
   "source": []
  }
 ],
 "metadata": {
  "kernelspec": {
   "display_name": "Python [conda env:Anaconda3]",
   "language": "python",
   "name": "conda-env-Anaconda3-py"
  },
  "language_info": {
   "codemirror_mode": {
    "name": "ipython",
    "version": 3
   },
   "file_extension": ".py",
   "mimetype": "text/x-python",
   "name": "python",
   "nbconvert_exporter": "python",
   "pygments_lexer": "ipython3",
   "version": "3.6.3"
  }
 },
 "nbformat": 4,
 "nbformat_minor": 2
}
